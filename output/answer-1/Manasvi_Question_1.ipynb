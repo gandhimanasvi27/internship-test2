{
  "nbformat": 4,
  "nbformat_minor": 0,
  "metadata": {
    "colab": {
      "name": "Manasvi_Question_1.ipynb",
      "provenance": []
    },
    "kernelspec": {
      "name": "python3",
      "display_name": "Python 3"
    },
    "language_info": {
      "name": "python"
    }
  },
  "cells": [
    {
      "cell_type": "code",
      "metadata": {
        "colab": {
          "resources": {
            "http://localhost:8080/nbextensions/google.colab/files.js": {
              "data": "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",
              "ok": true,
              "headers": [
                [
                  "content-type",
                  "application/javascript"
                ]
              ],
              "status": 200,
              "status_text": ""
            }
          },
          "base_uri": "https://localhost:8080/",
          "height": 73
        },
        "id": "Fk2WZpcQxKT5",
        "outputId": "8558413d-9bf2-4cfa-cdab-bb50c757142c"
      },
      "source": [
        "import pandas as pd\n",
        "from google.colab import files\n",
        "uploaded = files.upload()"
      ],
      "execution_count": 1,
      "outputs": [
        {
          "output_type": "display_data",
          "data": {
            "text/html": [
              "\n",
              "     <input type=\"file\" id=\"files-71794b8b-d837-4c22-8adf-8fda722b11ba\" name=\"files[]\" multiple disabled\n",
              "        style=\"border:none\" />\n",
              "     <output id=\"result-71794b8b-d837-4c22-8adf-8fda722b11ba\">\n",
              "      Upload widget is only available when the cell has been executed in the\n",
              "      current browser session. Please rerun this cell to enable.\n",
              "      </output>\n",
              "      <script src=\"/nbextensions/google.colab/files.js\"></script> "
            ],
            "text/plain": [
              "<IPython.core.display.HTML object>"
            ]
          },
          "metadata": {}
        },
        {
          "output_type": "stream",
          "name": "stdout",
          "text": [
            "Saving input-question-1-main.csv to input-question-1-main.csv\n"
          ]
        }
      ]
    },
    {
      "cell_type": "code",
      "metadata": {
        "colab": {
          "base_uri": "https://localhost:8080/"
        },
        "id": "X7udn0DDxR1i",
        "outputId": "edde32bf-7b74-4d15-bc0f-0797fb54f1c4"
      },
      "source": [
        "df = pd.read_csv('input-question-1-main.csv' , sep=',')\n",
        "print(df)"
      ],
      "execution_count": 2,
      "outputs": [
        {
          "output_type": "stream",
          "name": "stdout",
          "text": [
            "    Year  Population     Total  ...  Burglary  Larceny_Theft  Vehicle_Theft\n",
            "0   1960   179323175   3384200  ...    912100        1855400         328200\n",
            "1   1961   182992000   3488000  ...    949600        1913000         336000\n",
            "2   1962   185771000   3752200  ...    994300        2089600         366800\n",
            "3   1963   188483000   4109500  ...   1086400        2297800         408300\n",
            "4   1964   191141000   4564600  ...   1213200        2514400         472800\n",
            "5   1965   193526000   4739400  ...   1282500        2572600         496900\n",
            "6   1966   195576000   5223500  ...   1410100        2822000         561200\n",
            "7   1967   197457000   5903400  ...   1632100        3111600         659800\n",
            "8   1968   199399000   6720200  ...   1858900        3482700         783600\n",
            "9   1969   201385000   7410900  ...   1981900        3888600         878500\n",
            "10  1970   203235298   8098000  ...   2205000        4225800         928400\n",
            "11  1971   206212000   8588200  ...   2399300        4424200         948200\n",
            "12  1972   208230000   8248800  ...   2375500        4151200         887200\n",
            "13  1973   209851000   8718100  ...   2565500        4347900         928800\n",
            "14  1974   211392000  10253400  ...   3039200        5262500         977100\n",
            "15  1975   213124000  11292400  ...   3265300        5977700        1009600\n",
            "16  1976   214659000  11349700  ...   3108700        6270800         966000\n",
            "17  1977   216332000  10984500  ...   3071500        5905700         977700\n",
            "18  1978   218059000  11209000  ...   3128300        5991000        1004100\n",
            "19  1979   220099000  12249500  ...   3327700        6601000        1112800\n",
            "20  1980   225349264  13408300  ...   3795200        7136900        1131700\n",
            "21  1981   229146000  13423800  ...   3779700        7194400        1087800\n",
            "22  1982   231534000  12974400  ...   3447100        7142500        1062400\n",
            "23  1983   233981000  12108600  ...   3129900        6712800        1007900\n",
            "24  1984   236158000  11881800  ...   2984400        6591900        1032200\n",
            "25  1985   238740000  12431400  ...   3073300        6926400        1102900\n",
            "26  1986   240132887  13211869  ...   3241410        7257153        1224137\n",
            "27  1987   242282918  13508700  ...   3236184        7499900        1288674\n",
            "28  1988   245807000  13923100  ...   3218100        7705900        1432900\n",
            "29  1989   248239000  14251400  ...   3168200        7872400        1564800\n",
            "30  1990   248709873  14475600  ...   3073900        7945700        1635900\n",
            "31  1991   252177000  14872900  ...   3157200        8142200        1661700\n",
            "32  1992   255082000  14438200  ...   2979900        7915200        1610800\n",
            "33  1993   257908000  14144800  ...   2834800        7820900        1563100\n",
            "34  1994   260341000  13989500  ...   2712800        7879800        1539300\n",
            "35  1995   262755000  13862700  ...   2593800        7997700        1472400\n",
            "36  1996   265228572  13493863  ...   2506400        7904700        1394200\n",
            "37  1997   267637000  13194571  ...   2460526        7743760        1354189\n",
            "38  1998   270296000  12475634  ...   2329950        7373886        1240754\n",
            "39  1999   272690813  11634378  ...   2100739        6955520        1152075\n",
            "40  2000   281421906  11608072  ...   2050992        6971590        1160002\n",
            "41  2001   285317559  11876669  ...   2116531        7092267        1228391\n",
            "42  2002   287973924  11878954  ...   2151252        7057370        1246646\n",
            "43  2003   290690788  11826538  ...   2154834        7026802        1261226\n",
            "44  2004   293656842  11679474  ...   2144446        6937089        1237851\n",
            "45  2005   296507061  11565499  ...   2155448        6783447        1235859\n",
            "46  2006   299398484  11401511  ...   2183746        6607013        1192809\n",
            "47  2007   301621157  11251828  ...   2176140        6568572        1095769\n",
            "48  2008   304374846  11160543  ...   2228474        6588046         958629\n",
            "49  2009   307006550  10762956  ...   2203313        6338095         795652\n",
            "50  2010   309330219  10363873  ...   2168457        6204601         739565\n",
            "51  2011   311587816  10258774  ...   2185140        6151095         716508\n",
            "52  2012   313873685  10219059  ...   2109932        6168874         723186\n",
            "53  2013   316497531   9850445  ...   1931835        6018632         700294\n",
            "54  2014   318857056   9475816  ...   1729806        5858496         689527\n",
            "\n",
            "[55 rows x 12 columns]\n"
          ]
        }
      ]
    },
    {
      "cell_type": "code",
      "metadata": {
        "colab": {
          "base_uri": "https://localhost:8080/"
        },
        "id": "cxxLqP4sxXf1",
        "outputId": "559920ab-e4c6-4068-f514-2cf7ca013695"
      },
      "source": [
        "df_new = df.drop([\"Total\"], axis = 1, inplace = True)\n",
        "print(df)"
      ],
      "execution_count": 3,
      "outputs": [
        {
          "output_type": "stream",
          "name": "stdout",
          "text": [
            "    Year  Population  Violent  ...  Burglary  Larceny_Theft  Vehicle_Theft\n",
            "0   1960   179323175   288460  ...    912100        1855400         328200\n",
            "1   1961   182992000   289390  ...    949600        1913000         336000\n",
            "2   1962   185771000   301510  ...    994300        2089600         366800\n",
            "3   1963   188483000   316970  ...   1086400        2297800         408300\n",
            "4   1964   191141000   364220  ...   1213200        2514400         472800\n",
            "5   1965   193526000   387390  ...   1282500        2572600         496900\n",
            "6   1966   195576000   430180  ...   1410100        2822000         561200\n",
            "7   1967   197457000   499930  ...   1632100        3111600         659800\n",
            "8   1968   199399000   595010  ...   1858900        3482700         783600\n",
            "9   1969   201385000   661870  ...   1981900        3888600         878500\n",
            "10  1970   203235298   738820  ...   2205000        4225800         928400\n",
            "11  1971   206212000   816500  ...   2399300        4424200         948200\n",
            "12  1972   208230000   834900  ...   2375500        4151200         887200\n",
            "13  1973   209851000   875910  ...   2565500        4347900         928800\n",
            "14  1974   211392000   974720  ...   3039200        5262500         977100\n",
            "15  1975   213124000  1039710  ...   3265300        5977700        1009600\n",
            "16  1976   214659000  1004210  ...   3108700        6270800         966000\n",
            "17  1977   216332000  1029580  ...   3071500        5905700         977700\n",
            "18  1978   218059000  1085550  ...   3128300        5991000        1004100\n",
            "19  1979   220099000  1208030  ...   3327700        6601000        1112800\n",
            "20  1980   225349264  1344520  ...   3795200        7136900        1131700\n",
            "21  1981   229146000  1361820  ...   3779700        7194400        1087800\n",
            "22  1982   231534000  1322390  ...   3447100        7142500        1062400\n",
            "23  1983   233981000  1258090  ...   3129900        6712800        1007900\n",
            "24  1984   236158000  1273280  ...   2984400        6591900        1032200\n",
            "25  1985   238740000  1328800  ...   3073300        6926400        1102900\n",
            "26  1986   240132887  1489169  ...   3241410        7257153        1224137\n",
            "27  1987   242282918  1483999  ...   3236184        7499900        1288674\n",
            "28  1988   245807000  1566220  ...   3218100        7705900        1432900\n",
            "29  1989   248239000  1646040  ...   3168200        7872400        1564800\n",
            "30  1990   248709873  1820130  ...   3073900        7945700        1635900\n",
            "31  1991   252177000  1911770  ...   3157200        8142200        1661700\n",
            "32  1992   255082000  1932270  ...   2979900        7915200        1610800\n",
            "33  1993   257908000  1926020  ...   2834800        7820900        1563100\n",
            "34  1994   260341000  1857670  ...   2712800        7879800        1539300\n",
            "35  1995   262755000  1798790  ...   2593800        7997700        1472400\n",
            "36  1996   265228572  1688540  ...   2506400        7904700        1394200\n",
            "37  1997   267637000  1634770  ...   2460526        7743760        1354189\n",
            "38  1998   270296000  1531044  ...   2329950        7373886        1240754\n",
            "39  1999   272690813  1426044  ...   2100739        6955520        1152075\n",
            "40  2000   281421906  1425486  ...   2050992        6971590        1160002\n",
            "41  2001   285317559  1439480  ...   2116531        7092267        1228391\n",
            "42  2002   287973924  1423677  ...   2151252        7057370        1246646\n",
            "43  2003   290690788  1383676  ...   2154834        7026802        1261226\n",
            "44  2004   293656842  1360088  ...   2144446        6937089        1237851\n",
            "45  2005   296507061  1390745  ...   2155448        6783447        1235859\n",
            "46  2006   299398484  1418043  ...   2183746        6607013        1192809\n",
            "47  2007   301621157  1408337  ...   2176140        6568572        1095769\n",
            "48  2008   304374846  1392628  ...   2228474        6588046         958629\n",
            "49  2009   307006550  1325896  ...   2203313        6338095         795652\n",
            "50  2010   309330219  1251248  ...   2168457        6204601         739565\n",
            "51  2011   311587816  1206031  ...   2185140        6151095         716508\n",
            "52  2012   313873685  1217067  ...   2109932        6168874         723186\n",
            "53  2013   316497531  1199684  ...   1931835        6018632         700294\n",
            "54  2014   318857056  1197987  ...   1729806        5858496         689527\n",
            "\n",
            "[55 rows x 11 columns]\n"
          ]
        }
      ]
    },
    {
      "cell_type": "code",
      "metadata": {
        "colab": {
          "base_uri": "https://localhost:8080/",
          "height": 166
        },
        "id": "eQUWYj_Mxejc",
        "outputId": "5a985e0e-4cb8-42d1-d66f-16f59a8dd5c6"
      },
      "source": [
        "df_new.groupby((df.Year//10)*10).sum()"
      ],
      "execution_count": 5,
      "outputs": [
        {
          "output_type": "error",
          "ename": "AttributeError",
          "evalue": "ignored",
          "traceback": [
            "\u001b[0;31m---------------------------------------------------------------------------\u001b[0m",
            "\u001b[0;31mAttributeError\u001b[0m                            Traceback (most recent call last)",
            "\u001b[0;32m<ipython-input-5-cb3a98628351>\u001b[0m in \u001b[0;36m<module>\u001b[0;34m()\u001b[0m\n\u001b[0;32m----> 1\u001b[0;31m \u001b[0mdf_new\u001b[0m\u001b[0;34m.\u001b[0m\u001b[0mgroupby\u001b[0m\u001b[0;34m(\u001b[0m\u001b[0;34m(\u001b[0m\u001b[0mdf\u001b[0m\u001b[0;34m.\u001b[0m\u001b[0mYear\u001b[0m\u001b[0;34m//\u001b[0m\u001b[0;36m10\u001b[0m\u001b[0;34m)\u001b[0m\u001b[0;34m*\u001b[0m\u001b[0;36m10\u001b[0m\u001b[0;34m)\u001b[0m\u001b[0;34m.\u001b[0m\u001b[0msum\u001b[0m\u001b[0;34m(\u001b[0m\u001b[0;34m)\u001b[0m\u001b[0;34m\u001b[0m\u001b[0;34m\u001b[0m\u001b[0m\n\u001b[0m",
            "\u001b[0;31mAttributeError\u001b[0m: 'NoneType' object has no attribute 'groupby'"
          ]
        }
      ]
    }
  ]
}